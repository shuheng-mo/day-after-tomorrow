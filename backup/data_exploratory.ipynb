{
  "nbformat": 4,
  "nbformat_minor": 0,
  "metadata": {
    "colab": {
      "name": "data exploratory.ipynb",
      "provenance": [],
      "collapsed_sections": []
    },
    "kernelspec": {
      "name": "python3",
      "display_name": "Python 3"
    },
    "language_info": {
      "name": "python"
    }
  },
  "cells": [
    {
      "cell_type": "code",
      "source": [
        "!pip install radiant_mlhub\n",
        "!mlhub configure"
      ],
      "metadata": {
        "colab": {
          "base_uri": "https://localhost:8080/"
        },
        "id": "iO893rWJDxxh",
        "outputId": "c5260d75-0db1-4cd7-c462-e80cfb372003"
      },
      "execution_count": 9,
      "outputs": [
        {
          "output_type": "stream",
          "name": "stdout",
          "text": [
            "Looking in indexes: https://pypi.org/simple, https://us-python.pkg.dev/colab-wheels/public/simple/\n",
            "Requirement already satisfied: radiant_mlhub in /usr/local/lib/python3.7/dist-packages (0.4.1)\n",
            "Requirement already satisfied: pystac~=1.1 in /usr/local/lib/python3.7/dist-packages (from radiant_mlhub) (1.4.0)\n",
            "Requirement already satisfied: requests~=2.25 in /usr/local/lib/python3.7/dist-packages (from radiant_mlhub) (2.27.1)\n",
            "Requirement already satisfied: typing-extensions>=3.7 in /usr/local/lib/python3.7/dist-packages (from radiant_mlhub) (4.2.0)\n",
            "Requirement already satisfied: tqdm~=4.56 in /usr/local/lib/python3.7/dist-packages (from radiant_mlhub) (4.64.0)\n",
            "Requirement already satisfied: click<9.0.0,>=7.1.2 in /usr/local/lib/python3.7/dist-packages (from radiant_mlhub) (7.1.2)\n",
            "Requirement already satisfied: python-dateutil>=2.7.0 in /usr/local/lib/python3.7/dist-packages (from pystac~=1.1->radiant_mlhub) (2.8.2)\n",
            "Requirement already satisfied: six>=1.5 in /usr/local/lib/python3.7/dist-packages (from python-dateutil>=2.7.0->pystac~=1.1->radiant_mlhub) (1.15.0)\n",
            "Requirement already satisfied: idna<4,>=2.5 in /usr/local/lib/python3.7/dist-packages (from requests~=2.25->radiant_mlhub) (2.10)\n",
            "Requirement already satisfied: urllib3<1.27,>=1.21.1 in /usr/local/lib/python3.7/dist-packages (from requests~=2.25->radiant_mlhub) (1.24.3)\n",
            "Requirement already satisfied: charset-normalizer~=2.0.0 in /usr/local/lib/python3.7/dist-packages (from requests~=2.25->radiant_mlhub) (2.0.12)\n",
            "Requirement already satisfied: certifi>=2017.4.17 in /usr/local/lib/python3.7/dist-packages (from requests~=2.25->radiant_mlhub) (2022.5.18.1)\n",
            "API Key: 549a3aaf6ac01c632b4810633b2752900cbf48a9406d460f5b19460b620e1d26\n",
            "Overwrite existing API Key (****0e1d26) [y/N]: y\n",
            "Wrote profile to /root/.mlhub/profiles\n"
          ]
        }
      ]
    },
    {
      "cell_type": "code",
      "source": [
        "import os\n",
        "\n",
        "os.environ['MLHUB_API_KEY'] = '549a3aaf6ac01c632b4810633b2752900cbf48a9406d460f5b19460b620e1d26'"
      ],
      "metadata": {
        "id": "HWjDDjHV9CVs"
      },
      "execution_count": 7,
      "outputs": []
    },
    {
      "cell_type": "code",
      "execution_count": 15,
      "metadata": {
        "id": "n1pFItPzDi-z"
      },
      "outputs": [],
      "source": [
        "import json\n",
        "import re\n",
        "from glob import glob\n",
        "import tarfile\n",
        "\n",
        "import numpy as np\n",
        "import pandas as pd\n",
        "from pathlib import Path\n",
        "from radiant_mlhub import Dataset, Collection, client\n",
        "from google.colab import drive\n",
        "import matplotlib.pyplot as plt"
      ]
    },
    {
      "cell_type": "code",
      "source": [
        "# Download the dataset\n",
        "dataset = Dataset.fetch('nasa_tropical_storm_competition')\n",
        "\n",
        "# Use this to download the the typical Mac user Downloads folder\n",
        "download_dir = Path('./').resolve()\n",
        "# NOTE: Extracting the archives takes a while so this cell may take 5-10 minutes to complete\n",
        "archive_paths = dataset.download(output_dir=download_dir)\n",
        "for archive_path in archive_paths:\n",
        "    print(f'Extracting {archive_path}...')\n",
        "    with tarfile.open(archive_path) as tfile:\n",
        "        tfile.extractall(path=download_dir)\n",
        "print('Done')"
      ],
      "metadata": {
        "colab": {
          "base_uri": "https://localhost:8080/"
        },
        "id": "F48xTWGtCm6B",
        "outputId": "51e59d0a-f229-4696-e87d-e21fa6917ffd"
      },
      "execution_count": 18,
      "outputs": [
        {
          "output_type": "stream",
          "name": "stdout",
          "text": [
            "Extracting /content/nasa_tropical_storm_competition_train_source.tar.gz...\n",
            "Extracting /content/nasa_tropical_storm_competition_test_source.tar.gz...\n",
            "Extracting /content/nasa_tropical_storm_competition_train_labels.tar.gz...\n",
            "Extracting /content/nasa_tropical_storm_competition_test_labels.tar.gz...\n",
            "Done\n"
          ]
        }
      ]
    },
    {
      "cell_type": "code",
      "source": [
        "train_data = []\n",
        "\n",
        "train_source = 'nasa_tropical_storm_competition_train_source'\n",
        "train_labels = 'nasa_tropical_storm_competition_train_labels'\n",
        "# Use this to download to a data folder the current working directory\n",
        "#download_dir = Path('./')\n",
        "# # Use this to download the the typical Mac user Downloads folder\n",
        "# download_dir = Path('~/Downloads').expanduser().resolve()\n",
        "jpg_names = glob(str(download_dir / train_source / '**' / '*.jpg'))\n",
        "\n",
        "for jpg_path in jpg_names:\n",
        "    jpg_path = Path(jpg_path)\n",
        "    \n",
        "    # Get the IDs and file paths\n",
        "    features_path = jpg_path.parent / 'features.json'\n",
        "    image_id = '_'.join(jpg_path.parent.stem.rsplit('_', 3)[-2:])\n",
        "    storm_id = image_id.split('_')[0]\n",
        "    labels_path = str(jpg_path.parent / 'labels.json').replace(train_source, train_labels)\n",
        "\n",
        "\n",
        "    # Load the features data\n",
        "    with open(features_path) as src:\n",
        "        features_data = json.load(src)\n",
        "        \n",
        "    # Load the labels data\n",
        "    # with open(labels_path) as src:\n",
        "    #     labels_data = json.load(src)\n",
        "\n",
        "    train_data.append([\n",
        "        image_id, \n",
        "        storm_id, \n",
        "        int(features_data['relative_time']), \n",
        "        int(features_data['ocean'])\n",
        "        # int(labels_data['wind_speed'])\n",
        "    ])"
      ],
      "metadata": {
        "id": "r-G18lB6I5_0"
      },
      "execution_count": 19,
      "outputs": []
    },
    {
      "cell_type": "code",
      "source": [
        "train_df = pd.DataFrame(\n",
        "    np.array(train_data),\n",
        "    columns=['Image ID', 'Storm ID', 'Relative Time', 'Ocean']\n",
        ").sort_values(by=['Image ID']).reset_index(drop=True)\n",
        "\n",
        "train_df.head()"
      ],
      "metadata": {
        "colab": {
          "base_uri": "https://localhost:8080/",
          "height": 206
        },
        "id": "AaOzTMu_MoKD",
        "outputId": "34052247-17fc-4129-8930-09484733b0f4"
      },
      "execution_count": 22,
      "outputs": [
        {
          "output_type": "execute_result",
          "data": {
            "text/plain": [
              "  Image ID Storm ID Relative Time Ocean\n",
              "0  abs_000      abs             0     2\n",
              "1  abs_001      abs          1800     2\n",
              "2  abs_002      abs          5400     2\n",
              "3  abs_003      abs         17999     2\n",
              "4  abs_004      abs         19799     2"
            ],
            "text/html": [
              "\n",
              "  <div id=\"df-ab43e537-34cb-4ec3-acdb-0b26fc03a216\">\n",
              "    <div class=\"colab-df-container\">\n",
              "      <div>\n",
              "<style scoped>\n",
              "    .dataframe tbody tr th:only-of-type {\n",
              "        vertical-align: middle;\n",
              "    }\n",
              "\n",
              "    .dataframe tbody tr th {\n",
              "        vertical-align: top;\n",
              "    }\n",
              "\n",
              "    .dataframe thead th {\n",
              "        text-align: right;\n",
              "    }\n",
              "</style>\n",
              "<table border=\"1\" class=\"dataframe\">\n",
              "  <thead>\n",
              "    <tr style=\"text-align: right;\">\n",
              "      <th></th>\n",
              "      <th>Image ID</th>\n",
              "      <th>Storm ID</th>\n",
              "      <th>Relative Time</th>\n",
              "      <th>Ocean</th>\n",
              "    </tr>\n",
              "  </thead>\n",
              "  <tbody>\n",
              "    <tr>\n",
              "      <th>0</th>\n",
              "      <td>abs_000</td>\n",
              "      <td>abs</td>\n",
              "      <td>0</td>\n",
              "      <td>2</td>\n",
              "    </tr>\n",
              "    <tr>\n",
              "      <th>1</th>\n",
              "      <td>abs_001</td>\n",
              "      <td>abs</td>\n",
              "      <td>1800</td>\n",
              "      <td>2</td>\n",
              "    </tr>\n",
              "    <tr>\n",
              "      <th>2</th>\n",
              "      <td>abs_002</td>\n",
              "      <td>abs</td>\n",
              "      <td>5400</td>\n",
              "      <td>2</td>\n",
              "    </tr>\n",
              "    <tr>\n",
              "      <th>3</th>\n",
              "      <td>abs_003</td>\n",
              "      <td>abs</td>\n",
              "      <td>17999</td>\n",
              "      <td>2</td>\n",
              "    </tr>\n",
              "    <tr>\n",
              "      <th>4</th>\n",
              "      <td>abs_004</td>\n",
              "      <td>abs</td>\n",
              "      <td>19799</td>\n",
              "      <td>2</td>\n",
              "    </tr>\n",
              "  </tbody>\n",
              "</table>\n",
              "</div>\n",
              "      <button class=\"colab-df-convert\" onclick=\"convertToInteractive('df-ab43e537-34cb-4ec3-acdb-0b26fc03a216')\"\n",
              "              title=\"Convert this dataframe to an interactive table.\"\n",
              "              style=\"display:none;\">\n",
              "        \n",
              "  <svg xmlns=\"http://www.w3.org/2000/svg\" height=\"24px\"viewBox=\"0 0 24 24\"\n",
              "       width=\"24px\">\n",
              "    <path d=\"M0 0h24v24H0V0z\" fill=\"none\"/>\n",
              "    <path d=\"M18.56 5.44l.94 2.06.94-2.06 2.06-.94-2.06-.94-.94-2.06-.94 2.06-2.06.94zm-11 1L8.5 8.5l.94-2.06 2.06-.94-2.06-.94L8.5 2.5l-.94 2.06-2.06.94zm10 10l.94 2.06.94-2.06 2.06-.94-2.06-.94-.94-2.06-.94 2.06-2.06.94z\"/><path d=\"M17.41 7.96l-1.37-1.37c-.4-.4-.92-.59-1.43-.59-.52 0-1.04.2-1.43.59L10.3 9.45l-7.72 7.72c-.78.78-.78 2.05 0 2.83L4 21.41c.39.39.9.59 1.41.59.51 0 1.02-.2 1.41-.59l7.78-7.78 2.81-2.81c.8-.78.8-2.07 0-2.86zM5.41 20L4 18.59l7.72-7.72 1.47 1.35L5.41 20z\"/>\n",
              "  </svg>\n",
              "      </button>\n",
              "      \n",
              "  <style>\n",
              "    .colab-df-container {\n",
              "      display:flex;\n",
              "      flex-wrap:wrap;\n",
              "      gap: 12px;\n",
              "    }\n",
              "\n",
              "    .colab-df-convert {\n",
              "      background-color: #E8F0FE;\n",
              "      border: none;\n",
              "      border-radius: 50%;\n",
              "      cursor: pointer;\n",
              "      display: none;\n",
              "      fill: #1967D2;\n",
              "      height: 32px;\n",
              "      padding: 0 0 0 0;\n",
              "      width: 32px;\n",
              "    }\n",
              "\n",
              "    .colab-df-convert:hover {\n",
              "      background-color: #E2EBFA;\n",
              "      box-shadow: 0px 1px 2px rgba(60, 64, 67, 0.3), 0px 1px 3px 1px rgba(60, 64, 67, 0.15);\n",
              "      fill: #174EA6;\n",
              "    }\n",
              "\n",
              "    [theme=dark] .colab-df-convert {\n",
              "      background-color: #3B4455;\n",
              "      fill: #D2E3FC;\n",
              "    }\n",
              "\n",
              "    [theme=dark] .colab-df-convert:hover {\n",
              "      background-color: #434B5C;\n",
              "      box-shadow: 0px 1px 3px 1px rgba(0, 0, 0, 0.15);\n",
              "      filter: drop-shadow(0px 1px 2px rgba(0, 0, 0, 0.3));\n",
              "      fill: #FFFFFF;\n",
              "    }\n",
              "  </style>\n",
              "\n",
              "      <script>\n",
              "        const buttonEl =\n",
              "          document.querySelector('#df-ab43e537-34cb-4ec3-acdb-0b26fc03a216 button.colab-df-convert');\n",
              "        buttonEl.style.display =\n",
              "          google.colab.kernel.accessAllowed ? 'block' : 'none';\n",
              "\n",
              "        async function convertToInteractive(key) {\n",
              "          const element = document.querySelector('#df-ab43e537-34cb-4ec3-acdb-0b26fc03a216');\n",
              "          const dataTable =\n",
              "            await google.colab.kernel.invokeFunction('convertToInteractive',\n",
              "                                                     [key], {});\n",
              "          if (!dataTable) return;\n",
              "\n",
              "          const docLinkHtml = 'Like what you see? Visit the ' +\n",
              "            '<a target=\"_blank\" href=https://colab.research.google.com/notebooks/data_table.ipynb>data table notebook</a>'\n",
              "            + ' to learn more about interactive tables.';\n",
              "          element.innerHTML = '';\n",
              "          dataTable['output_type'] = 'display_data';\n",
              "          await google.colab.output.renderOutput(dataTable, element);\n",
              "          const docLink = document.createElement('div');\n",
              "          docLink.innerHTML = docLinkHtml;\n",
              "          element.appendChild(docLink);\n",
              "        }\n",
              "      </script>\n",
              "    </div>\n",
              "  </div>\n",
              "  "
            ]
          },
          "metadata": {},
          "execution_count": 22
        }
      ]
    },
    {
      "cell_type": "code",
      "source": [
        "test_data = []\n",
        "\n",
        "test_source = 'nasa_tropical_storm_competition_test_source'\n",
        "\n",
        "jpg_names = glob(str(download_dir / test_source / '**' / '*.jpg'))\n",
        "\n",
        "for jpg_path in jpg_names:\n",
        "    jpg_path = Path(jpg_path)\n",
        "\n",
        "    # Get the IDs and file paths\n",
        "    features_path = jpg_path.parent / 'features.json'\n",
        "    image_id = '_'.join(jpg_path.parent.stem.rsplit('_', 3)[-2:])\n",
        "    storm_id = image_id.split('_')[0]\n",
        "\n",
        "    # Load the features data\n",
        "    with open(features_path) as src:\n",
        "        features_data = json.load(src)\n",
        "\n",
        "    test_data.append([\n",
        "        image_id, \n",
        "        storm_id, \n",
        "        int(features_data['relative_time']), \n",
        "        int(features_data['ocean']), \n",
        "    ])\n",
        "\n",
        "test_df = pd.DataFrame(\n",
        "    np.array(test_data),\n",
        "    columns=['Image ID', 'Storm ID', 'Relative Time', 'Ocean']\n",
        ").sort_values(by=['Image ID']).reset_index(drop=True)\n",
        "\n",
        "test_df.head()"
      ],
      "metadata": {
        "colab": {
          "base_uri": "https://localhost:8080/",
          "height": 206
        },
        "id": "mwJkjcHzNw9s",
        "outputId": "e3aef22a-c0a1-4266-e8ec-61319e2c84c5"
      },
      "execution_count": 23,
      "outputs": [
        {
          "output_type": "execute_result",
          "data": {
            "text/plain": [
              "  Image ID Storm ID Relative Time Ocean\n",
              "0  acd_123      acd        304198     1\n",
              "1  acd_124      acd        305998     1\n",
              "2  acd_125      acd        307798     1\n",
              "3  acd_126      acd        309598     1\n",
              "4  acd_127      acd        313198     1"
            ],
            "text/html": [
              "\n",
              "  <div id=\"df-d486e6b7-fdc3-41d0-bd77-e85d29405b4f\">\n",
              "    <div class=\"colab-df-container\">\n",
              "      <div>\n",
              "<style scoped>\n",
              "    .dataframe tbody tr th:only-of-type {\n",
              "        vertical-align: middle;\n",
              "    }\n",
              "\n",
              "    .dataframe tbody tr th {\n",
              "        vertical-align: top;\n",
              "    }\n",
              "\n",
              "    .dataframe thead th {\n",
              "        text-align: right;\n",
              "    }\n",
              "</style>\n",
              "<table border=\"1\" class=\"dataframe\">\n",
              "  <thead>\n",
              "    <tr style=\"text-align: right;\">\n",
              "      <th></th>\n",
              "      <th>Image ID</th>\n",
              "      <th>Storm ID</th>\n",
              "      <th>Relative Time</th>\n",
              "      <th>Ocean</th>\n",
              "    </tr>\n",
              "  </thead>\n",
              "  <tbody>\n",
              "    <tr>\n",
              "      <th>0</th>\n",
              "      <td>acd_123</td>\n",
              "      <td>acd</td>\n",
              "      <td>304198</td>\n",
              "      <td>1</td>\n",
              "    </tr>\n",
              "    <tr>\n",
              "      <th>1</th>\n",
              "      <td>acd_124</td>\n",
              "      <td>acd</td>\n",
              "      <td>305998</td>\n",
              "      <td>1</td>\n",
              "    </tr>\n",
              "    <tr>\n",
              "      <th>2</th>\n",
              "      <td>acd_125</td>\n",
              "      <td>acd</td>\n",
              "      <td>307798</td>\n",
              "      <td>1</td>\n",
              "    </tr>\n",
              "    <tr>\n",
              "      <th>3</th>\n",
              "      <td>acd_126</td>\n",
              "      <td>acd</td>\n",
              "      <td>309598</td>\n",
              "      <td>1</td>\n",
              "    </tr>\n",
              "    <tr>\n",
              "      <th>4</th>\n",
              "      <td>acd_127</td>\n",
              "      <td>acd</td>\n",
              "      <td>313198</td>\n",
              "      <td>1</td>\n",
              "    </tr>\n",
              "  </tbody>\n",
              "</table>\n",
              "</div>\n",
              "      <button class=\"colab-df-convert\" onclick=\"convertToInteractive('df-d486e6b7-fdc3-41d0-bd77-e85d29405b4f')\"\n",
              "              title=\"Convert this dataframe to an interactive table.\"\n",
              "              style=\"display:none;\">\n",
              "        \n",
              "  <svg xmlns=\"http://www.w3.org/2000/svg\" height=\"24px\"viewBox=\"0 0 24 24\"\n",
              "       width=\"24px\">\n",
              "    <path d=\"M0 0h24v24H0V0z\" fill=\"none\"/>\n",
              "    <path d=\"M18.56 5.44l.94 2.06.94-2.06 2.06-.94-2.06-.94-.94-2.06-.94 2.06-2.06.94zm-11 1L8.5 8.5l.94-2.06 2.06-.94-2.06-.94L8.5 2.5l-.94 2.06-2.06.94zm10 10l.94 2.06.94-2.06 2.06-.94-2.06-.94-.94-2.06-.94 2.06-2.06.94z\"/><path d=\"M17.41 7.96l-1.37-1.37c-.4-.4-.92-.59-1.43-.59-.52 0-1.04.2-1.43.59L10.3 9.45l-7.72 7.72c-.78.78-.78 2.05 0 2.83L4 21.41c.39.39.9.59 1.41.59.51 0 1.02-.2 1.41-.59l7.78-7.78 2.81-2.81c.8-.78.8-2.07 0-2.86zM5.41 20L4 18.59l7.72-7.72 1.47 1.35L5.41 20z\"/>\n",
              "  </svg>\n",
              "      </button>\n",
              "      \n",
              "  <style>\n",
              "    .colab-df-container {\n",
              "      display:flex;\n",
              "      flex-wrap:wrap;\n",
              "      gap: 12px;\n",
              "    }\n",
              "\n",
              "    .colab-df-convert {\n",
              "      background-color: #E8F0FE;\n",
              "      border: none;\n",
              "      border-radius: 50%;\n",
              "      cursor: pointer;\n",
              "      display: none;\n",
              "      fill: #1967D2;\n",
              "      height: 32px;\n",
              "      padding: 0 0 0 0;\n",
              "      width: 32px;\n",
              "    }\n",
              "\n",
              "    .colab-df-convert:hover {\n",
              "      background-color: #E2EBFA;\n",
              "      box-shadow: 0px 1px 2px rgba(60, 64, 67, 0.3), 0px 1px 3px 1px rgba(60, 64, 67, 0.15);\n",
              "      fill: #174EA6;\n",
              "    }\n",
              "\n",
              "    [theme=dark] .colab-df-convert {\n",
              "      background-color: #3B4455;\n",
              "      fill: #D2E3FC;\n",
              "    }\n",
              "\n",
              "    [theme=dark] .colab-df-convert:hover {\n",
              "      background-color: #434B5C;\n",
              "      box-shadow: 0px 1px 3px 1px rgba(0, 0, 0, 0.15);\n",
              "      filter: drop-shadow(0px 1px 2px rgba(0, 0, 0, 0.3));\n",
              "      fill: #FFFFFF;\n",
              "    }\n",
              "  </style>\n",
              "\n",
              "      <script>\n",
              "        const buttonEl =\n",
              "          document.querySelector('#df-d486e6b7-fdc3-41d0-bd77-e85d29405b4f button.colab-df-convert');\n",
              "        buttonEl.style.display =\n",
              "          google.colab.kernel.accessAllowed ? 'block' : 'none';\n",
              "\n",
              "        async function convertToInteractive(key) {\n",
              "          const element = document.querySelector('#df-d486e6b7-fdc3-41d0-bd77-e85d29405b4f');\n",
              "          const dataTable =\n",
              "            await google.colab.kernel.invokeFunction('convertToInteractive',\n",
              "                                                     [key], {});\n",
              "          if (!dataTable) return;\n",
              "\n",
              "          const docLinkHtml = 'Like what you see? Visit the ' +\n",
              "            '<a target=\"_blank\" href=https://colab.research.google.com/notebooks/data_table.ipynb>data table notebook</a>'\n",
              "            + ' to learn more about interactive tables.';\n",
              "          element.innerHTML = '';\n",
              "          dataTable['output_type'] = 'display_data';\n",
              "          await google.colab.output.renderOutput(dataTable, element);\n",
              "          const docLink = document.createElement('div');\n",
              "          docLink.innerHTML = docLinkHtml;\n",
              "          element.appendChild(docLink);\n",
              "        }\n",
              "      </script>\n",
              "    </div>\n",
              "  </div>\n",
              "  "
            ]
          },
          "metadata": {},
          "execution_count": 23
        }
      ]
    },
    {
      "cell_type": "markdown",
      "source": [
        "We combine the train and test set as a whole dataset which will be used for training later."
      ],
      "metadata": {
        "id": "rRhUMFebr3UM"
      }
    },
    {
      "cell_type": "code",
      "source": [
        "data = train_df.append(test_df)"
      ],
      "metadata": {
        "id": "52ZSyvFsN9iV"
      },
      "execution_count": 24,
      "outputs": []
    },
    {
      "cell_type": "markdown",
      "source": [
        "# **Data Exploratory**"
      ],
      "metadata": {
        "id": "j9GoVsPROBjn"
      }
    },
    {
      "cell_type": "markdown",
      "source": [
        "We have 114634 images in the dataset."
      ],
      "metadata": {
        "id": "LbG6FaWtPBjN"
      }
    },
    {
      "cell_type": "code",
      "source": [
        "print('Training data:',data.shape)"
      ],
      "metadata": {
        "colab": {
          "base_uri": "https://localhost:8080/"
        },
        "id": "_qkLCYegOYDf",
        "outputId": "f6d9ea8b-6dd1-4df9-b678-ce954109601c"
      },
      "execution_count": 34,
      "outputs": [
        {
          "output_type": "stream",
          "name": "stdout",
          "text": [
            "Training data: (114634, 4)\n"
          ]
        }
      ]
    },
    {
      "cell_type": "markdown",
      "source": [
        "Let's take a look at how many storms are in the training and testing data, and how many images we have per storm."
      ],
      "metadata": {
        "id": "kd3Lmt70OyjT"
      }
    },
    {
      "cell_type": "code",
      "source": [
        "print('Number of storms in training data:',data[\"Storm ID\"].nunique())"
      ],
      "metadata": {
        "colab": {
          "base_uri": "https://localhost:8080/"
        },
        "id": "ra-V3ZI6PyyV",
        "outputId": "9e60248a-c713-47dd-a5df-c0e2be085a39"
      },
      "execution_count": 36,
      "outputs": [
        {
          "output_type": "stream",
          "name": "stdout",
          "text": [
            "Number of storms in training data: 638\n"
          ]
        }
      ]
    },
    {
      "cell_type": "code",
      "source": [
        "storm_counts = data.groupby(\"Storm ID\").size()\n",
        "storm_counts.describe()"
      ],
      "metadata": {
        "colab": {
          "base_uri": "https://localhost:8080/"
        },
        "id": "FK8dtDezQ1fn",
        "outputId": "08a6eae9-7907-4ebe-f9d1-a6f6b838a68d"
      },
      "execution_count": 37,
      "outputs": [
        {
          "output_type": "execute_result",
          "data": {
            "text/plain": [
              "count    638.000000\n",
              "mean     179.677116\n",
              "std      124.488779\n",
              "min        4.000000\n",
              "25%       84.000000\n",
              "50%      157.500000\n",
              "75%      248.000000\n",
              "max      648.000000\n",
              "dtype: float64"
            ]
          },
          "metadata": {},
          "execution_count": 37
        }
      ]
    },
    {
      "cell_type": "code",
      "source": [
        "plt.figure(figsize=(12, 4))\n",
        "plt.hist(storm_counts, bins=50)\n",
        "plt.xlabel(\"Number of Images\")\n",
        "plt.ylabel(\"Number of Storms\")\n",
        "plt.title(\"Number of Images per Storm\")"
      ],
      "metadata": {
        "colab": {
          "base_uri": "https://localhost:8080/",
          "height": 313
        },
        "id": "fDCx8O0BSoka",
        "outputId": "b3d68a84-5d05-48e4-838f-d4219a126718"
      },
      "execution_count": 38,
      "outputs": [
        {
          "output_type": "execute_result",
          "data": {
            "text/plain": [
              "Text(0.5, 1.0, 'Number of Images per Storm')"
            ]
          },
          "metadata": {},
          "execution_count": 38
        },
        {
          "output_type": "display_data",
          "data": {
            "text/plain": [
              "<Figure size 864x288 with 1 Axes>"
            ],
            "image/png": "[encoded data removed]"
          },
          "metadata": {
            "needs_background": "light"
          }
        }
      ]
    },
    {
      "cell_type": "markdown",
      "source": [
        "The training data contain images from 638 storms. We have anywhere from 4 to 648 images per unique storm, with many storms containing less than 200 images."
      ],
      "metadata": {
        "id": "rdkHjNbLTH9R"
      }
    },
    {
      "cell_type": "markdown",
      "source": [
        "Now, let's see the distributions of time difference of the capture images for each storm."
      ],
      "metadata": {
        "id": "ZT0H7dqsAiig"
      }
    },
    {
      "cell_type": "code",
      "source": [
        "data = data.sort_values(by=['Storm ID','Image ID'], ascending = [True, True])"
      ],
      "metadata": {
        "id": "drxYzPdrzKpM"
      },
      "execution_count": 94,
      "outputs": []
    },
    {
      "cell_type": "code",
      "source": [
        "from collections import defaultdict\n",
        "# Compute the time difference for each storm \n",
        "time_diff = defaultdict(list)\n",
        "storm_id = data['Storm ID'].unique()\n",
        "for storm in storm_id:\n",
        "    for index,row in data[data['Storm ID']==storm][1:].iterrows():\n",
        "      stormid = storm+str(index)\n",
        "      time_diff[stormid]=(int(data.iloc[index]['Relative Time']) - int(data.iloc[index-1]['Relative Time']))"
      ],
      "metadata": {
        "id": "KNXAfc4mJwIb"
      },
      "execution_count": 168,
      "outputs": []
    },
    {
      "cell_type": "code",
      "source": [
        "timeDiff = pd.DataFrame.from_dict(time_diff,orient = 'index').reset_index()\n",
        "timeDiff['index'] = timeDiff['index'].apply(lambda x: x[:3])\n",
        "timeDiff.columns = ['Storm ID','Time Diff']"
      ],
      "metadata": {
        "id": "xJhogRi7KETT"
      },
      "execution_count": 176,
      "outputs": []
    },
    {
      "cell_type": "code",
      "source": [
        "timeDiff.groupby('Storm ID').describe()"
      ],
      "metadata": {
        "colab": {
          "base_uri": "https://localhost:8080/",
          "height": 486
        },
        "id": "Sv_Jjp-hHuC5",
        "outputId": "78a74d46-14a9-4a02-b3fe-60b356a489f8"
      },
      "execution_count": 178,
      "outputs": [
        {
          "output_type": "execute_result",
          "data": {
            "text/plain": [
              "         Time Diff                                                             \\\n",
              "             count         mean          std     min     25%     50%      75%   \n",
              "Storm ID                                                                        \n",
              "abs           56.0  2925.000000  2800.195675  1796.0  1800.0  1800.0  3599.25   \n",
              "acd          223.0  2502.237668  1704.373828  1798.0  1800.0  1800.0  1801.00   \n",
              "aek          107.0  3600.009346     0.167969  3599.0  3600.0  3600.0  3600.00   \n",
              "afs          220.0  2626.354545  3030.189486  1798.0  1800.0  1801.0  3600.00   \n",
              "agb          132.0  2263.636364  1550.831997  1799.0  1800.0  1800.0  1800.00   \n",
              "...            ...          ...          ...     ...     ...     ...      ...   \n",
              "zvx          101.0  3600.029703     0.221605  3599.0  3600.0  3600.0  3600.00   \n",
              "zwh           77.0  2197.376623   905.732766  1797.0  1800.0  1800.0  1802.00   \n",
              "zyp          126.0  2200.007937   878.606383  1798.0  1800.0  1800.0  1800.00   \n",
              "zza          178.0  2164.056180   749.804168  1799.0  1800.0  1800.0  1801.00   \n",
              "zzp          225.0  2575.991111  1739.274297  1798.0  1800.0  1800.0  3598.00   \n",
              "\n",
              "                   \n",
              "              max  \n",
              "Storm ID           \n",
              "abs       12600.0  \n",
              "acd       10801.0  \n",
              "aek        3601.0  \n",
              "afs       45001.0  \n",
              "agb       18000.0  \n",
              "...           ...  \n",
              "zvx        3601.0  \n",
              "zwh        7199.0  \n",
              "zyp        7199.0  \n",
              "zza        5399.0  \n",
              "zzp       10800.0  \n",
              "\n",
              "[638 rows x 8 columns]"
            ],
            "text/html": [
              "\n",
              "  <div id=\"df-c74c3d45-4654-4d54-91ac-82996bb1a3ee\">\n",
              "    <div class=\"colab-df-container\">\n",
              "      <div>\n",
              "<style scoped>\n",
              "    .dataframe tbody tr th:only-of-type {\n",
              "        vertical-align: middle;\n",
              "    }\n",
              "\n",
              "    .dataframe tbody tr th {\n",
              "        vertical-align: top;\n",
              "    }\n",
              "\n",
              "    .dataframe thead tr th {\n",
              "        text-align: left;\n",
              "    }\n",
              "\n",
              "    .dataframe thead tr:last-of-type th {\n",
              "        text-align: right;\n",
              "    }\n",
              "</style>\n",
              "<table border=\"1\" class=\"dataframe\">\n",
              "  <thead>\n",
              "    <tr>\n",
              "      <th></th>\n",
              "      <th colspan=\"8\" halign=\"left\">Time Diff</th>\n",
              "    </tr>\n",
              "    <tr>\n",
              "      <th></th>\n",
              "      <th>count</th>\n",
              "      <th>mean</th>\n",
              "      <th>std</th>\n",
              "      <th>min</th>\n",
              "      <th>25%</th>\n",
              "      <th>50%</th>\n",
              "      <th>75%</th>\n",
              "      <th>max</th>\n",
              "    </tr>\n",
              "    <tr>\n",
              "      <th>Storm ID</th>\n",
              "      <th></th>\n",
              "      <th></th>\n",
              "      <th></th>\n",
              "      <th></th>\n",
              "      <th></th>\n",
              "      <th></th>\n",
              "      <th></th>\n",
              "      <th></th>\n",
              "    </tr>\n",
              "  </thead>\n",
              "  <tbody>\n",
              "    <tr>\n",
              "      <th>abs</th>\n",
              "      <td>56.0</td>\n",
              "      <td>2925.000000</td>\n",
              "      <td>2800.195675</td>\n",
              "      <td>1796.0</td>\n",
              "      <td>1800.0</td>\n",
              "      <td>1800.0</td>\n",
              "      <td>3599.25</td>\n",
              "      <td>12600.0</td>\n",
              "    </tr>\n",
              "    <tr>\n",
              "      <th>acd</th>\n",
              "      <td>223.0</td>\n",
              "      <td>2502.237668</td>\n",
              "      <td>1704.373828</td>\n",
              "      <td>1798.0</td>\n",
              "      <td>1800.0</td>\n",
              "      <td>1800.0</td>\n",
              "      <td>1801.00</td>\n",
              "      <td>10801.0</td>\n",
              "    </tr>\n",
              "    <tr>\n",
              "      <th>aek</th>\n",
              "      <td>107.0</td>\n",
              "      <td>3600.009346</td>\n",
              "      <td>0.167969</td>\n",
              "      <td>3599.0</td>\n",
              "      <td>3600.0</td>\n",
              "      <td>3600.0</td>\n",
              "      <td>3600.00</td>\n",
              "      <td>3601.0</td>\n",
              "    </tr>\n",
              "    <tr>\n",
              "      <th>afs</th>\n",
              "      <td>220.0</td>\n",
              "      <td>2626.354545</td>\n",
              "      <td>3030.189486</td>\n",
              "      <td>1798.0</td>\n",
              "      <td>1800.0</td>\n",
              "      <td>1801.0</td>\n",
              "      <td>3600.00</td>\n",
              "      <td>45001.0</td>\n",
              "    </tr>\n",
              "    <tr>\n",
              "      <th>agb</th>\n",
              "      <td>132.0</td>\n",
              "      <td>2263.636364</td>\n",
              "      <td>1550.831997</td>\n",
              "      <td>1799.0</td>\n",
              "      <td>1800.0</td>\n",
              "      <td>1800.0</td>\n",
              "      <td>1800.00</td>\n",
              "      <td>18000.0</td>\n",
              "    </tr>\n",
              "    <tr>\n",
              "      <th>...</th>\n",
              "      <td>...</td>\n",
              "      <td>...</td>\n",
              "      <td>...</td>\n",
              "      <td>...</td>\n",
              "      <td>...</td>\n",
              "      <td>...</td>\n",
              "      <td>...</td>\n",
              "      <td>...</td>\n",
              "    </tr>\n",
              "    <tr>\n",
              "      <th>zvx</th>\n",
              "      <td>101.0</td>\n",
              "      <td>3600.029703</td>\n",
              "      <td>0.221605</td>\n",
              "      <td>3599.0</td>\n",
              "      <td>3600.0</td>\n",
              "      <td>3600.0</td>\n",
              "      <td>3600.00</td>\n",
              "      <td>3601.0</td>\n",
              "    </tr>\n",
              "    <tr>\n",
              "      <th>zwh</th>\n",
              "      <td>77.0</td>\n",
              "      <td>2197.376623</td>\n",
              "      <td>905.732766</td>\n",
              "      <td>1797.0</td>\n",
              "      <td>1800.0</td>\n",
              "      <td>1800.0</td>\n",
              "      <td>1802.00</td>\n",
              "      <td>7199.0</td>\n",
              "    </tr>\n",
              "    <tr>\n",
              "      <th>zyp</th>\n",
              "      <td>126.0</td>\n",
              "      <td>2200.007937</td>\n",
              "      <td>878.606383</td>\n",
              "      <td>1798.0</td>\n",
              "      <td>1800.0</td>\n",
              "      <td>1800.0</td>\n",
              "      <td>1800.00</td>\n",
              "      <td>7199.0</td>\n",
              "    </tr>\n",
              "    <tr>\n",
              "      <th>zza</th>\n",
              "      <td>178.0</td>\n",
              "      <td>2164.056180</td>\n",
              "      <td>749.804168</td>\n",
              "      <td>1799.0</td>\n",
              "      <td>1800.0</td>\n",
              "      <td>1800.0</td>\n",
              "      <td>1801.00</td>\n",
              "      <td>5399.0</td>\n",
              "    </tr>\n",
              "    <tr>\n",
              "      <th>zzp</th>\n",
              "      <td>225.0</td>\n",
              "      <td>2575.991111</td>\n",
              "      <td>1739.274297</td>\n",
              "      <td>1798.0</td>\n",
              "      <td>1800.0</td>\n",
              "      <td>1800.0</td>\n",
              "      <td>3598.00</td>\n",
              "      <td>10800.0</td>\n",
              "    </tr>\n",
              "  </tbody>\n",
              "</table>\n",
              "<p>638 rows × 8 columns</p>\n",
              "</div>\n",
              "      <button class=\"colab-df-convert\" onclick=\"convertToInteractive('df-c74c3d45-4654-4d54-91ac-82996bb1a3ee')\"\n",
              "              title=\"Convert this dataframe to an interactive table.\"\n",
              "              style=\"display:none;\">\n",
              "        \n",
              "  <svg xmlns=\"http://www.w3.org/2000/svg\" height=\"24px\"viewBox=\"0 0 24 24\"\n",
              "       width=\"24px\">\n",
              "    <path d=\"M0 0h24v24H0V0z\" fill=\"none\"/>\n",
              "    <path d=\"M18.56 5.44l.94 2.06.94-2.06 2.06-.94-2.06-.94-.94-2.06-.94 2.06-2.06.94zm-11 1L8.5 8.5l.94-2.06 2.06-.94-2.06-.94L8.5 2.5l-.94 2.06-2.06.94zm10 10l.94 2.06.94-2.06 2.06-.94-2.06-.94-.94-2.06-.94 2.06-2.06.94z\"/><path d=\"M17.41 7.96l-1.37-1.37c-.4-.4-.92-.59-1.43-.59-.52 0-1.04.2-1.43.59L10.3 9.45l-7.72 7.72c-.78.78-.78 2.05 0 2.83L4 21.41c.39.39.9.59 1.41.59.51 0 1.02-.2 1.41-.59l7.78-7.78 2.81-2.81c.8-.78.8-2.07 0-2.86zM5.41 20L4 18.59l7.72-7.72 1.47 1.35L5.41 20z\"/>\n",
              "  </svg>\n",
              "      </button>\n",
              "      \n",
              "  <style>\n",
              "    .colab-df-container {\n",
              "      display:flex;\n",
              "      flex-wrap:wrap;\n",
              "      gap: 12px;\n",
              "    }\n",
              "\n",
              "    .colab-df-convert {\n",
              "      background-color: #E8F0FE;\n",
              "      border: none;\n",
              "      border-radius: 50%;\n",
              "      cursor: pointer;\n",
              "      display: none;\n",
              "      fill: #1967D2;\n",
              "      height: 32px;\n",
              "      padding: 0 0 0 0;\n",
              "      width: 32px;\n",
              "    }\n",
              "\n",
              "    .colab-df-convert:hover {\n",
              "      background-color: #E2EBFA;\n",
              "      box-shadow: 0px 1px 2px rgba(60, 64, 67, 0.3), 0px 1px 3px 1px rgba(60, 64, 67, 0.15);\n",
              "      fill: #174EA6;\n",
              "    }\n",
              "\n",
              "    [theme=dark] .colab-df-convert {\n",
              "      background-color: #3B4455;\n",
              "      fill: #D2E3FC;\n",
              "    }\n",
              "\n",
              "    [theme=dark] .colab-df-convert:hover {\n",
              "      background-color: #434B5C;\n",
              "      box-shadow: 0px 1px 3px 1px rgba(0, 0, 0, 0.15);\n",
              "      filter: drop-shadow(0px 1px 2px rgba(0, 0, 0, 0.3));\n",
              "      fill: #FFFFFF;\n",
              "    }\n",
              "  </style>\n",
              "\n",
              "      <script>\n",
              "        const buttonEl =\n",
              "          document.querySelector('#df-c74c3d45-4654-4d54-91ac-82996bb1a3ee button.colab-df-convert');\n",
              "        buttonEl.style.display =\n",
              "          google.colab.kernel.accessAllowed ? 'block' : 'none';\n",
              "\n",
              "        async function convertToInteractive(key) {\n",
              "          const element = document.querySelector('#df-c74c3d45-4654-4d54-91ac-82996bb1a3ee');\n",
              "          const dataTable =\n",
              "            await google.colab.kernel.invokeFunction('convertToInteractive',\n",
              "                                                     [key], {});\n",
              "          if (!dataTable) return;\n",
              "\n",
              "          const docLinkHtml = 'Like what you see? Visit the ' +\n",
              "            '<a target=\"_blank\" href=https://colab.research.google.com/notebooks/data_table.ipynb>data table notebook</a>'\n",
              "            + ' to learn more about interactive tables.';\n",
              "          element.innerHTML = '';\n",
              "          dataTable['output_type'] = 'display_data';\n",
              "          await google.colab.output.renderOutput(dataTable, element);\n",
              "          const docLink = document.createElement('div');\n",
              "          docLink.innerHTML = docLinkHtml;\n",
              "          element.appendChild(docLink);\n",
              "        }\n",
              "      </script>\n",
              "    </div>\n",
              "  </div>\n",
              "  "
            ]
          },
          "metadata": {},
          "execution_count": 178
        }
      ]
    },
    {
      "cell_type": "code",
      "source": [
        "timeDiff[timeDiff['Storm ID']=='zzp'].hist()"
      ],
      "metadata": {
        "colab": {
          "base_uri": "https://localhost:8080/",
          "height": 317
        },
        "id": "1SmvBvuxM4zq",
        "outputId": "e864ffed-b855-4040-f012-04d97655f004"
      },
      "execution_count": 198,
      "outputs": [
        {
          "output_type": "execute_result",
          "data": {
            "text/plain": [
              "array([[<matplotlib.axes._subplots.AxesSubplot object at 0x7f64f6d03e10>]],\n",
              "      dtype=object)"
            ]
          },
          "metadata": {},
          "execution_count": 198
        },
        {
          "output_type": "display_data",
          "data": {
            "text/plain": [
              "<Figure size 432x288 with 1 Axes>"
            ],
            "image/png": "[encoded data removed]"
          },
          "metadata": {
            "needs_background": "light"
          }
        }
      ]
    },
    {
      "cell_type": "code",
      "source": [
        "timeDiff[timeDiff['Storm ID']=='abs'].hist()"
      ],
      "metadata": {
        "colab": {
          "base_uri": "https://localhost:8080/",
          "height": 317
        },
        "id": "IIdCSnmOMNYQ",
        "outputId": "764668ce-560f-4b0a-b6d3-7a92cac21b95"
      },
      "execution_count": 186,
      "outputs": [
        {
          "output_type": "execute_result",
          "data": {
            "text/plain": [
              "array([[<matplotlib.axes._subplots.AxesSubplot object at 0x7f64fd8f26d0>]],\n",
              "      dtype=object)"
            ]
          },
          "metadata": {},
          "execution_count": 186
        },
        {
          "output_type": "display_data",
          "data": {
            "text/plain": [
              "<Figure size 432x288 with 1 Axes>"
            ],
            "image/png": "[encoded data removed]"
          },
          "metadata": {
            "needs_background": "light"
          }
        }
      ]
    },
    {
      "cell_type": "markdown",
      "source": [
        "We can see that the time difference of the images are not distributed evenly for some storms which this case causes the inconsistencies of the timestamp and there are some missing images of the storms. In order to ensure the even distribution of our training set, we need to handle the inconsistency by generating and inserting some images accordingly."
      ],
      "metadata": {
        "id": "ATRROMrJOGzm"
      }
    },
    {
      "cell_type": "code",
      "source": [
        ""
      ],
      "metadata": {
        "id": "bqy_c5WEPHg1"
      },
      "execution_count": null,
      "outputs": []
    }
  ]
}